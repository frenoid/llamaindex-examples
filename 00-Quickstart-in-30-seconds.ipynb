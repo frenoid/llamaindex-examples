{
 "cells": [
  {
   "cell_type": "markdown",
   "id": "b06dfe36-6478-4065-b117-9b0b9f2f269b",
   "metadata": {},
   "source": [
    "# Getting Started in 30 seconds\n",
    "Adapted from [30 quickstart on docs.llamaindex.ai](https://docs.llamaindex.ai/en/stable/#30-second-quickstart)\n",
    "\n",
    "In this example, we will use `llama-index` to create a RAG application to answer few questions about Shakespeare's plays\n",
    "1. Hamlet\n",
    "2. Romeo and Juliet\n",
    "3. King Lear\n",
    "\n",
    "Load credentials from a .env file and the [python-dotenv package](https://pypi.org/project/python-dotenv/)\n",
    "\n",
    "```toml\n",
    "OPENAI_API_KEY=\"<KEY>\"\n",
    "```"
   ]
  },
  {
   "cell_type": "code",
   "execution_count": 27,
   "id": "62dc1a16-aeec-4967-a565-883e94be7a85",
   "metadata": {
    "tags": []
   },
   "outputs": [],
   "source": [
    "import os\n",
    "from dotenv import load_dotenv\n",
    "\n",
    "load_dotenv()\n",
    "\n",
    "assert os.environ[\"OPENAI_API_KEY\"]"
   ]
  },
  {
   "cell_type": "markdown",
   "id": "e98a46d5-abff-4f44-a016-7580c9ee2e9d",
   "metadata": {},
   "source": [
    "Now we download some documents from a Github Repository container well-known [Computer Science papers](https://github.com/papers-we-love/papers-we-love/tree/main) in the `docs` directory"
   ]
  },
  {
   "cell_type": "code",
   "execution_count": 28,
   "id": "bbb5dd79-2281-4911-bfd6-f12dd37201c5",
   "metadata": {
    "tags": []
   },
   "outputs": [],
   "source": [
    "! mkdir -p docs"
   ]
  },
  {
   "cell_type": "code",
   "execution_count": 29,
   "id": "7f5ee0d9-7cfc-4ea9-86e3-3e2495ab8920",
   "metadata": {
    "tags": []
   },
   "outputs": [
    {
     "name": "stdout",
     "output_type": "stream",
     "text": [
      "--2024-08-05 16:40:27--  https://socrates.acadiau.ca/courses/engl/rcunningham/resources/Shpe/Hamlet.pdf\n",
      "Resolving socrates.acadiau.ca (socrates.acadiau.ca)... 131.162.202.70\n",
      "Connecting to socrates.acadiau.ca (socrates.acadiau.ca)|131.162.202.70|:443... connected.\n",
      "HTTP request sent, awaiting response... 200 OK\n",
      "Length: 697964 (682K) [application/pdf]\n",
      "Saving to: ‘Hamlet.pdf.2’\n",
      "\n",
      "Hamlet.pdf.2        100%[===================>] 681.61K   503KB/s    in 1.4s    \n",
      "\n",
      "2024-08-05 16:40:30 (503 KB/s) - ‘Hamlet.pdf.2’ saved [697964/697964]\n",
      "\n",
      "--2024-08-05 16:40:30--  https://folger-main-site-assets.s3.amazonaws.com/uploads/2022/11/romeo-and-juliet_TXT_FolgerShakespeare.txt\n",
      "Resolving folger-main-site-assets.s3.amazonaws.com (folger-main-site-assets.s3.amazonaws.com)... 54.231.204.249, 16.182.104.169, 52.216.211.1, ...\n",
      "Connecting to folger-main-site-assets.s3.amazonaws.com (folger-main-site-assets.s3.amazonaws.com)|54.231.204.249|:443... connected.\n",
      "HTTP request sent, awaiting response... 200 OK\n",
      "Length: 146706 (143K) [text/plain]\n",
      "Saving to: ‘romeo-and-juliet_TXT_FolgerShakespeare.txt.1’\n",
      "\n",
      "romeo-and-juliet_TX 100%[===================>] 143.27K  55.7KB/s    in 2.6s    \n",
      "\n",
      "2024-08-05 16:40:33 (55.7 KB/s) - ‘romeo-and-juliet_TXT_FolgerShakespeare.txt.1’ saved [146706/146706]\n",
      "\n",
      "--2024-08-05 16:40:34--  https://folger-main-site-assets.s3.amazonaws.com/uploads/2022/11/king-lear_PDF_FolgerShakespeare.pdf\n",
      "Resolving folger-main-site-assets.s3.amazonaws.com (folger-main-site-assets.s3.amazonaws.com)... 54.231.133.193, 52.216.141.220, 54.231.204.249, ...\n",
      "Connecting to folger-main-site-assets.s3.amazonaws.com (folger-main-site-assets.s3.amazonaws.com)|54.231.133.193|:443... connected.\n",
      "HTTP request sent, awaiting response... 200 OK\n",
      "Length: 1004332 (981K) [application/pdf]\n",
      "Saving to: ‘king-lear_PDF_FolgerShakespeare.pdf.1’\n",
      "\n",
      "king-lear_PDF_Folge 100%[===================>] 980.79K   194KB/s    in 6.0s    \n",
      "\n",
      "2024-08-05 16:40:41 (163 KB/s) - ‘king-lear_PDF_FolgerShakespeare.pdf.1’ saved [1004332/1004332]\n",
      "\n"
     ]
    }
   ],
   "source": [
    "! cd docs && wget https://socrates.acadiau.ca/courses/engl/rcunningham/resources/Shpe/Hamlet.pdf\n",
    "! cd docs && wget https://folger-main-site-assets.s3.amazonaws.com/uploads/2022/11/romeo-and-juliet_TXT_FolgerShakespeare.txt\n",
    "! cd docs && wget https://folger-main-site-assets.s3.amazonaws.com/uploads/2022/11/king-lear_PDF_FolgerShakespeare.pdf"
   ]
  },
  {
   "cell_type": "markdown",
   "id": "1a453b24-82e6-4299-9862-5678847dda89",
   "metadata": {},
   "source": [
    "We are ready to ask questions about the documents stashed in `docs` using 5-lines of code"
   ]
  },
  {
   "cell_type": "markdown",
   "id": "83b28ce9-a6bc-4d08-a221-280261f1121c",
   "metadata": {},
   "source": [
    "We will use the `SimpleDirectoryReader` class to read documents in a directory, then use the `VectorStoreIndex` class to split, chunk and index the documents and finally run several queries over the documents using OpenAI's LLM"
   ]
  },
  {
   "cell_type": "code",
   "execution_count": 30,
   "id": "6643131d-73cd-476e-a6fd-78dbb18047ab",
   "metadata": {
    "tags": []
   },
   "outputs": [
    {
     "name": "stdout",
     "output_type": "stream",
     "text": [
      "Hamlet hesitated before killing Claudius because he wanted to confirm Claudius's guilt.\n"
     ]
    }
   ],
   "source": [
    "from llama_index.core import VectorStoreIndex, SimpleDirectoryReader\n",
    "\n",
    "documents = SimpleDirectoryReader(\"docs\").load_data()\n",
    "index = VectorStoreIndex.from_documents(documents)\n",
    "query_engine = index.as_query_engine()\n",
    "response = query_engine.query(\"Why did Hamlet hesitate before killing Claudius?\")\n",
    "print(response)"
   ]
  },
  {
   "cell_type": "code",
   "execution_count": 31,
   "id": "c120895b-5f9a-45d6-afcf-3f47205bee12",
   "metadata": {
    "tags": []
   },
   "outputs": [
    {
     "name": "stdout",
     "output_type": "stream",
     "text": [
      "Juliet did not live happily ever after with Romeo because of a series of tragic events that led to their untimely deaths.\n"
     ]
    }
   ],
   "source": [
    "response = query_engine.query(\"Why did Juliet not live happily ever after with Romeo?\")\n",
    "print(response)"
   ]
  },
  {
   "cell_type": "code",
   "execution_count": 32,
   "id": "45dca30f-7c92-4680-88a3-9b8c9469197d",
   "metadata": {
    "tags": []
   },
   "outputs": [
    {
     "name": "stdout",
     "output_type": "stream",
     "text": [
      "Juliet expressed her wish that Romeo had another family name by stating, \"What's in a name? That which we call a rose By any other word would smell as sweet.\"\n"
     ]
    }
   ],
   "source": [
    "response = query_engine.query(\"What did Juliet say that expresses her wish that Romeo had another family name?\")\n",
    "print(response)"
   ]
  },
  {
   "cell_type": "code",
   "execution_count": 33,
   "id": "dbac38a0-1510-496f-b200-07585b00f698",
   "metadata": {
    "tags": []
   },
   "outputs": [
    {
     "name": "stdout",
     "output_type": "stream",
     "text": [
      "King Lear tells the tragic tale of an elderly king who decides to divide his kingdom among his three daughters. When his youngest daughter, Cordelia, refuses to flatter him, he banishes her. Betrayed by his other daughters, Goneril and Regan, Lear is left to wander in a storm. Meanwhile, the Earl of Gloucester's illegitimate son, Edmund, schemes against his legitimate son, Edgar. As chaos ensues, Cordelia and a French army attempt to save Lear, but tragedy strikes. Betrayals, blindness, and deaths follow, culminating in a heartbreaking conclusion where Lear and Cordelia meet their tragic fate.\n"
     ]
    }
   ],
   "source": [
    "response = query_engine.query(\"In 100 words, summarize the plot of King Lear for me\")\n",
    "print(response)"
   ]
  },
  {
   "cell_type": "code",
   "execution_count": 34,
   "id": "dd5456c8-69b6-448a-91b5-9e079f41ec0a",
   "metadata": {
    "tags": []
   },
   "outputs": [
    {
     "name": "stdout",
     "output_type": "stream",
     "text": [
      "Sir, I love you more than word can wield the matter,\n",
      "Dearer than eyesight, space, and liberty,\n",
      "Beyond what can be valued, rich or rare,\n",
      "No less than life, with grace, health, beauty, honor;\n",
      "As much as child e’er loved, or father found;\n",
      "A love that makes breath poor, and speech unable.\n",
      "Beyond all manner of so much I love you.\n"
     ]
    }
   ],
   "source": [
    "response = query_engine.query(\"Quote me a few lines said by Cordelia in the play King Lear\")\n",
    "print(response)"
   ]
  },
  {
   "cell_type": "code",
   "execution_count": 35,
   "id": "f9c062c5-9228-40b2-8bf4-57add2ad8dd4",
   "metadata": {
    "tags": []
   },
   "outputs": [
    {
     "name": "stdout",
     "output_type": "stream",
     "text": [
      "The significance of a pilgrim in Romeo and Juliet is to symbolize someone on a spiritual journey or quest for love. The lines that use the metaphor of a pilgrim are: \"If I profane with my unworthiest hand / This holy shrine, the gentle fine is this: / My lips, two blushing pilgrims, ready stand / To smooth that rough touch with a tender kiss.\"\n"
     ]
    }
   ],
   "source": [
    "response = query_engine.query(\"What is the significance of a pilgrim in Romeo and Juliet? Quote me the lines which use the metaphor of a pilgrim.\")\n",
    "print(response)"
   ]
  },
  {
   "cell_type": "code",
   "execution_count": 36,
   "id": "924e955b-7f18-4656-b4fe-24739d138cf6",
   "metadata": {
    "tags": []
   },
   "outputs": [
    {
     "data": {
      "text/plain": [
       "280"
      ]
     },
     "execution_count": 36,
     "metadata": {},
     "output_type": "execute_result"
    }
   ],
   "source": [
    "len(documents)"
   ]
  },
  {
   "cell_type": "markdown",
   "id": "87e13ec5-ed68-42a0-8c1d-474343eb15d5",
   "metadata": {},
   "source": [
    "A more comprehensive starter tutorials using [remote APIs like OpenAI](https://docs.llamaindex.ai/en/stable/getting_started/starter_example/) or [any model that runs on your laptop](https://docs.llamaindex.ai/en/stable/getting_started/starter_example_local/)."
   ]
  }
 ],
 "metadata": {
  "kernelspec": {
   "display_name": "Python 3.11 for Llama-Index",
   "language": "python",
   "name": "python311-llamaindex"
  },
  "language_info": {
   "codemirror_mode": {
    "name": "ipython",
    "version": 3
   },
   "file_extension": ".py",
   "mimetype": "text/x-python",
   "name": "python",
   "nbconvert_exporter": "python",
   "pygments_lexer": "ipython3",
   "version": "3.11.9"
  }
 },
 "nbformat": 4,
 "nbformat_minor": 5
}
