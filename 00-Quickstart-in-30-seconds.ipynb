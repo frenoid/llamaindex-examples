{
 "cells": [
  {
   "cell_type": "markdown",
   "id": "b06dfe36-6478-4065-b117-9b0b9f2f269b",
   "metadata": {},
   "source": [
    "# Getting Started in 30 seconds\n",
    "Adapted from [30 quickstart on docs.llamaindex.ai](https://docs.llamaindex.ai/en/stable/#30-second-quickstart)\n",
    "\n",
    "In this example, we will use `llama-index` to create a RAG application to answer few questions about Shakespeare's plays\n",
    "1. Hamlet\n",
    "2. Romeo and Juliet\n",
    "3. King Lear\n",
    "\n",
    "Load credentials from a .env file and the [python-dotenv package](https://pypi.org/project/python-dotenv/)\n",
    "\n",
    "```toml\n",
    "OPENAI_API_KEY=\"<KEY>\"\n",
    "```"
   ]
  },
  {
   "cell_type": "code",
   "execution_count": 2,
   "id": "62dc1a16-aeec-4967-a565-883e94be7a85",
   "metadata": {
    "tags": []
   },
   "outputs": [],
   "source": [
    "import os\n",
    "from dotenv import load_dotenv\n",
    "\n",
    "load_dotenv()\n",
    "\n",
    "assert os.environ[\"OPENAI_API_KEY\"]"
   ]
  },
  {
   "cell_type": "markdown",
   "id": "e98a46d5-abff-4f44-a016-7580c9ee2e9d",
   "metadata": {},
   "source": [
    "Now we download some documents from a Github Repository container well-known [Computer Science papers](https://github.com/papers-we-love/papers-we-love/tree/main) in the `docs` directory"
   ]
  },
  {
   "cell_type": "code",
   "execution_count": 14,
   "id": "bbb5dd79-2281-4911-bfd6-f12dd37201c5",
   "metadata": {
    "tags": []
   },
   "outputs": [],
   "source": [
    "! mkdir -p docs"
   ]
  },
  {
   "cell_type": "code",
   "execution_count": 17,
   "id": "7f5ee0d9-7cfc-4ea9-86e3-3e2495ab8920",
   "metadata": {
    "tags": []
   },
   "outputs": [
    {
     "name": "stdout",
     "output_type": "stream",
     "text": [
      "--2024-07-16 18:00:41--  https://socrates.acadiau.ca/courses/engl/rcunningham/resources/Shpe/Hamlet.pdf\n",
      "Resolving socrates.acadiau.ca (socrates.acadiau.ca)... 131.162.202.70\n",
      "Connecting to socrates.acadiau.ca (socrates.acadiau.ca)|131.162.202.70|:443... connected.\n",
      "HTTP request sent, awaiting response... 200 OK\n",
      "Length: 697964 (682K) [application/pdf]\n",
      "Saving to: ‘Hamlet.pdf.1’\n",
      "\n",
      "Hamlet.pdf.1        100%[===================>] 681.61K   488KB/s    in 1.4s    \n",
      "\n",
      "2024-07-16 18:00:44 (488 KB/s) - ‘Hamlet.pdf.1’ saved [697964/697964]\n",
      "\n",
      "--2024-07-16 18:00:44--  https://folger-main-site-assets.s3.amazonaws.com/uploads/2022/11/romeo-and-juliet_TXT_FolgerShakespeare.txt\n",
      "Resolving folger-main-site-assets.s3.amazonaws.com (folger-main-site-assets.s3.amazonaws.com)... 52.216.24.220, 52.216.147.51, 52.217.117.57, ...\n",
      "Connecting to folger-main-site-assets.s3.amazonaws.com (folger-main-site-assets.s3.amazonaws.com)|52.216.24.220|:443... connected.\n",
      "HTTP request sent, awaiting response... 200 OK\n",
      "Length: 146706 (143K) [text/plain]\n",
      "Saving to: ‘romeo-and-juliet_TXT_FolgerShakespeare.txt’\n",
      "\n",
      "romeo-and-juliet_TX 100%[===================>] 143.27K   202KB/s    in 0.7s    \n",
      "\n",
      "2024-07-16 18:00:45 (202 KB/s) - ‘romeo-and-juliet_TXT_FolgerShakespeare.txt’ saved [146706/146706]\n",
      "\n",
      "--2024-07-16 18:00:46--  https://folger-main-site-assets.s3.amazonaws.com/uploads/2022/11/king-lear_PDF_FolgerShakespeare.pdf\n",
      "Resolving folger-main-site-assets.s3.amazonaws.com (folger-main-site-assets.s3.amazonaws.com)... 3.5.22.1, 52.216.147.51, 52.217.117.57, ...\n",
      "Connecting to folger-main-site-assets.s3.amazonaws.com (folger-main-site-assets.s3.amazonaws.com)|3.5.22.1|:443... connected.\n",
      "HTTP request sent, awaiting response... 200 OK\n",
      "Length: 1004332 (981K) [application/pdf]\n",
      "Saving to: ‘king-lear_PDF_FolgerShakespeare.pdf’\n",
      "\n",
      "king-lear_PDF_Folge 100%[===================>] 980.79K   206KB/s    in 4.9s    \n",
      "\n",
      "2024-07-16 18:00:51 (201 KB/s) - ‘king-lear_PDF_FolgerShakespeare.pdf’ saved [1004332/1004332]\n",
      "\n"
     ]
    }
   ],
   "source": [
    "! cd docs && wget https://socrates.acadiau.ca/courses/engl/rcunningham/resources/Shpe/Hamlet.pdf\n",
    "! cd docs && wget https://folger-main-site-assets.s3.amazonaws.com/uploads/2022/11/romeo-and-juliet_TXT_FolgerShakespeare.txt\n",
    "! cd docs && wget https://folger-main-site-assets.s3.amazonaws.com/uploads/2022/11/king-lear_PDF_FolgerShakespeare.pdf"
   ]
  },
  {
   "cell_type": "markdown",
   "id": "1a453b24-82e6-4299-9862-5678847dda89",
   "metadata": {},
   "source": [
    "We are ready to ask questions about the documents stashed in `docs` using 5-lines of code"
   ]
  },
  {
   "cell_type": "markdown",
   "id": "83b28ce9-a6bc-4d08-a221-280261f1121c",
   "metadata": {},
   "source": [
    "We will use the `SimpleDirectoryReader` class to read documents in a directory, then use the `VectorStoreIndex` class to split, chunk and index the documents and finally run several queries over the documents using OpenAI's LLM"
   ]
  },
  {
   "cell_type": "code",
   "execution_count": 18,
   "id": "6643131d-73cd-476e-a6fd-78dbb18047ab",
   "metadata": {
    "tags": []
   },
   "outputs": [
    {
     "name": "stdout",
     "output_type": "stream",
     "text": [
      "Hamlet hesitated before killing Claudius because he wanted to confirm Claudius's guilt.\n"
     ]
    }
   ],
   "source": [
    "from llama_index.core import VectorStoreIndex, SimpleDirectoryReader\n",
    "\n",
    "documents = SimpleDirectoryReader(\"docs\").load_data()\n",
    "index = VectorStoreIndex.from_documents(documents)\n",
    "query_engine = index.as_query_engine()\n",
    "response = query_engine.query(\"Why did Hamlet hesitate before killing Claudius?\")\n",
    "print(response)"
   ]
  },
  {
   "cell_type": "code",
   "execution_count": 19,
   "id": "c120895b-5f9a-45d6-afcf-3f47205bee12",
   "metadata": {
    "tags": []
   },
   "outputs": [
    {
     "name": "stdout",
     "output_type": "stream",
     "text": [
      "Juliet did not live happily ever after with Romeo because of a series of tragic events that led to their untimely deaths.\n"
     ]
    }
   ],
   "source": [
    "response = query_engine.query(\"Why did Juliet not live happily ever after with Romeo?\")\n",
    "print(response)"
   ]
  },
  {
   "cell_type": "code",
   "execution_count": 22,
   "id": "45dca30f-7c92-4680-88a3-9b8c9469197d",
   "metadata": {
    "tags": []
   },
   "outputs": [
    {
     "name": "stdout",
     "output_type": "stream",
     "text": [
      "Juliet expressed her wish that Romeo had another family name by stating, \"What's in a name? That which we call a rose By any other word would smell as sweet.\"\n"
     ]
    }
   ],
   "source": [
    "response = query_engine.query(\"What did Juliet say that expresses her wish that Romeo had another family name?\")\n",
    "print(response)"
   ]
  },
  {
   "cell_type": "code",
   "execution_count": 23,
   "id": "dbac38a0-1510-496f-b200-07585b00f698",
   "metadata": {
    "tags": []
   },
   "outputs": [
    {
     "name": "stdout",
     "output_type": "stream",
     "text": [
      "King Lear tells the tragic tale of an aging king who decides to divide his kingdom among his three daughters. When his youngest daughter refuses to flatter him, he banishes her. The older daughters, Goneril and Regan, betray him, leading to Lear's descent into madness. Meanwhile, the Earl of Gloucester's sons, Edgar and Edmund, face betrayal and conflict. Cordelia and a French army attempt to save Lear, but tragedy ensues with betrayal, blindness, and death. In the end, Lear dies alongside Cordelia, highlighting themes of family, power, and the consequences of deceit and betrayal.\n"
     ]
    }
   ],
   "source": [
    "response = query_engine.query(\"In 100 words, summarize the plot of King Lear for me\")\n",
    "print(response)"
   ]
  },
  {
   "cell_type": "code",
   "execution_count": 24,
   "id": "dd5456c8-69b6-448a-91b5-9e079f41ec0a",
   "metadata": {
    "tags": []
   },
   "outputs": [
    {
     "name": "stdout",
     "output_type": "stream",
     "text": [
      "Sir, I love you more than word can wield the matter,\n",
      "Dearer than eyesight, space, and liberty,\n",
      "Beyond what can be valued, rich or rare,\n",
      "No less than life, with grace, health, beauty, honor;\n",
      "As much as child e’er loved, or father found;\n",
      "A love that makes breath poor, and speech unable.\n"
     ]
    }
   ],
   "source": [
    "response = query_engine.query(\"Quote me a few lines said by Cordelia in the play King Lear\")\n",
    "print(response)"
   ]
  },
  {
   "cell_type": "code",
   "execution_count": 26,
   "id": "924e955b-7f18-4656-b4fe-24739d138cf6",
   "metadata": {
    "tags": []
   },
   "outputs": [
    {
     "data": {
      "text/plain": [
       "277"
      ]
     },
     "execution_count": 26,
     "metadata": {},
     "output_type": "execute_result"
    }
   ],
   "source": [
    "len(documents)"
   ]
  },
  {
   "cell_type": "markdown",
   "id": "87e13ec5-ed68-42a0-8c1d-474343eb15d5",
   "metadata": {},
   "source": [
    "A more comprehensive starter tutorials using [remote APIs like OpenAI](https://docs.llamaindex.ai/en/stable/getting_started/starter_example/) or [any model that runs on your laptop](https://docs.llamaindex.ai/en/stable/getting_started/starter_example_local/)."
   ]
  }
 ],
 "metadata": {
  "kernelspec": {
   "display_name": "Python 3.11 for Llama-Index",
   "language": "python",
   "name": "python311-llamaindex"
  },
  "language_info": {
   "codemirror_mode": {
    "name": "ipython",
    "version": 3
   },
   "file_extension": ".py",
   "mimetype": "text/x-python",
   "name": "python",
   "nbconvert_exporter": "python",
   "pygments_lexer": "ipython3",
   "version": "3.11.9"
  }
 },
 "nbformat": 4,
 "nbformat_minor": 5
}
