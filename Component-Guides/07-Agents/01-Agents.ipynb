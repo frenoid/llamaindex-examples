{
 "cells": [
  {
   "cell_type": "markdown",
   "id": "72e4fa93-ea64-4d3b-abdf-e1224f98714b",
   "metadata": {},
   "source": [
    "# Agents\n",
    "\n",
    "## Concept\n",
    "Data Agents are LLM-powered knowledge workers in LlamaIndex that can intelligently perform various tasks over your data, in both a “read” and “write” function. They are capable of the following:\n",
    "\n",
    "* Perform automated search and retrieval over different types of data - unstructured, semi-structured, and structured.\n",
    "* Calling any external service API in a structured fashion, and processing the response + storing it for later.\n",
    "\n",
    "In that sense, agents are a step beyond our [query engines](https://docs.llamaindex.ai/en/stable/module_guides/deploying/query_engine/) in that they can not only \"read\" from a static source of data, but can dynamically ingest and modify data from a variety of different tools.\n",
    "\n",
    "Building a data agent requires the following core components:\n",
    "* A reasoning loop\n",
    "* Tool abstractions\n",
    "\n",
    "A data agent is initialized with set of APIs, or Tools, to interact with; these APIs can be called by the agent to return information or modify state. Given an input task, the data agent uses a reasoning loop to decide which tools to use, in which sequence, and the parameters to call each tool."
   ]
  },
  {
   "cell_type": "markdown",
   "id": "9a4ae0c2-752d-4c3a-a83b-6535b7403c43",
   "metadata": {},
   "source": [
    "### Reasoning Loop\n",
    "The reasoning loop depends on the type of agent. We have support for the following agents:\n",
    "\n",
    "* Function Calling Agents (integrates with any function calling LLM)\n",
    "* ReAct agent (works across any chat/text completion endpoint).\n",
    "* \"Advanced Agents\": [LLMCompiler](https://llamahub.ai/l/llama-packs/llama-index-packs-agents-llm-compiler?from=), [Chain-of-Abstraction](https://llamahub.ai/l/llama-packs/llama-index-packs-agents-coa?from=), [Language Agent Tree Search](https://llamahub.ai/l/llama-packs/llama-index-packs-agents-lats?from=), and more."
   ]
  },
  {
   "cell_type": "markdown",
   "id": "b0792e77-b8b4-46bb-95c7-76b1922f1c94",
   "metadata": {
    "tags": []
   },
   "source": [
    "### Tool Abstractions\n",
    "You can learn more about our Tool abstractions in our [Tools section](https://docs.llamaindex.ai/en/stable/module_guides/deploying/agents/tools/index.md)."
   ]
  },
  {
   "cell_type": "markdown",
   "id": "2af473ab-1613-4246-8451-ecbb865c0a2c",
   "metadata": {
    "tags": []
   },
   "source": [
    "### Blog Post\n",
    "For full details, please check out our detailed [blog post](https://medium.com/llamaindex-blog/data-agents-eed797d7972f)"
   ]
  },
  {
   "cell_type": "markdown",
   "id": "8130a6b2-7934-4494-b39b-62419ef7d224",
   "metadata": {},
   "source": [
    "### Lower-level API: Step-Wise Execution\n",
    "By default, our agents expose `query` and `chat` functions that will execute a user-query end-to-end.\n",
    "\n",
    "We also offer a *lower-level API* allowing you to perform step-wise execution of an agent. This gives you much more control in being able to create tasks, and analyze + act upon the input/output of each step within a task.\n",
    "\n",
    "Check out [our guide](https://docs.llamaindex.ai/en/stable/module_guides/deploying/agents/agent_runner/)."
   ]
  },
  {
   "cell_type": "markdown",
   "id": "96705fe5-b397-4fdf-8c48-1583ee8ced8e",
   "metadata": {},
   "source": [
    "## Usage Pattern\n",
    "\n",
    "Data agents can be used in the following manner (the example uses the OpenAI Function API)\n",
    "\n",
    "```python\n",
    "from llama_index.agent.openai import OpenAIAgent\n",
    "from llama_index.llms.openai import OpenAI\n",
    "\n",
    "# import and define tools\n",
    "...\n",
    "\n",
    "# initialize llm\n",
    "llm = OpenAI(model=\"gpt-3.5-turbo-0613\")\n",
    "\n",
    "# initialize openai agent\n",
    "agent = OpenAIAgent.from_tools(tools, llm=llm, verbose=True)\n",
    "```"
   ]
  },
  {
   "cell_type": "code",
   "execution_count": null,
   "id": "f860926d-c2b9-440e-8a44-d71a3e2f0999",
   "metadata": {},
   "outputs": [],
   "source": []
  }
 ],
 "metadata": {
  "kernelspec": {
   "display_name": "Python 3.11 for Llama-Index",
   "language": "python",
   "name": "python311-llamaindex"
  },
  "language_info": {
   "codemirror_mode": {
    "name": "ipython",
    "version": 3
   },
   "file_extension": ".py",
   "mimetype": "text/x-python",
   "name": "python",
   "nbconvert_exporter": "python",
   "pygments_lexer": "ipython3",
   "version": "3.11.9"
  }
 },
 "nbformat": 4,
 "nbformat_minor": 5
}
